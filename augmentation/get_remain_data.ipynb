{
 "cells": [
  {
   "cell_type": "code",
   "execution_count": 1,
   "metadata": {},
   "outputs": [],
   "source": [
    "import pandas as pd"
   ]
  },
  {
   "cell_type": "code",
   "execution_count": null,
   "metadata": {},
   "outputs": [],
   "source": [
    "df_translation1 = pd.read_csv(\"./aug_data/translation_aug_equal_lmarena-ai-arena-human-preference-55k-group0-threshold200-add150.csv\")\n",
    "df_translation2 = pd.read_csv(\"./aug_data/translation_aug_equal_lmarena-ai-arena-human-preference-55k-group1-threshold200-add150.csv\")\n",
    "df_translation3 = pd.read_csv(\"./aug_data/translation_aug_equal_lmarena-ai-arena-human-preference-55k-group0-threshold200-add1028.csv\")\n",
    "df_translation = pd.concat([df_translation1, df_translation2, df_translation3])\n",
    "print(df_translation.shape)\n",
    "df_translation.head()"
   ]
  },
  {
   "cell_type": "code",
   "execution_count": null,
   "metadata": {},
   "outputs": [],
   "source": [
    "df_all = pd.read_parquet(\"../external_data/lmarena-ai-arena-human-preference-55k.parquet\")\n",
    "print(df_all.shape)\n",
    "df_all.head()"
   ]
  },
  {
   "cell_type": "code",
   "execution_count": null,
   "metadata": {},
   "outputs": [],
   "source": [
    "df_remain_non_translation = df_all[~df_all[\"id\"].isin(df_translation[\"id\"])]\n",
    "print(df_remain_non_translation.shape)\n",
    "df_remain_non_translation.reset_index(drop=True, inplace=True)\n",
    "df_remain_non_translation.head()"
   ]
  },
  {
   "cell_type": "code",
   "execution_count": 5,
   "metadata": {},
   "outputs": [],
   "source": [
    "df_remain_non_translation.to_json(\"./remain_non_translation_5k.json\", orient=\"columns\")"
   ]
  }
 ],
 "metadata": {
  "kernelspec": {
   "display_name": "base",
   "language": "python",
   "name": "python3"
  },
  "language_info": {
   "codemirror_mode": {
    "name": "ipython",
    "version": 3
   },
   "file_extension": ".py",
   "mimetype": "text/x-python",
   "name": "python",
   "nbconvert_exporter": "python",
   "pygments_lexer": "ipython3",
   "version": "3.10.9"
  }
 },
 "nbformat": 4,
 "nbformat_minor": 2
}
