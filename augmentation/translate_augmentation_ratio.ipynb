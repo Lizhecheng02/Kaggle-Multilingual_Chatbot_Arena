{
 "cells": [
  {
   "cell_type": "code",
   "execution_count": 1,
   "metadata": {},
   "outputs": [],
   "source": [
    "import pandas as pd\n",
    "import json\n",
    "from itertools import accumulate\n",
    "from tqdm import tqdm\n",
    "from utils import get_response_openai"
   ]
  },
  {
   "cell_type": "code",
   "execution_count": 2,
   "metadata": {},
   "outputs": [],
   "source": [
    "train = pd.read_parquet(\"../original_data/train.parquet\")"
   ]
  },
  {
   "cell_type": "code",
   "execution_count": null,
   "metadata": {},
   "outputs": [],
   "source": [
    "train[\"language\"].value_counts()[:20]"
   ]
  },
  {
   "cell_type": "code",
   "execution_count": 4,
   "metadata": {},
   "outputs": [],
   "source": [
    "language_ratios = train[\"language\"].value_counts(normalize=True).to_dict()\n",
    "\n",
    "with open(\"language_ratios.json\", \"w\", encoding=\"utf-8\") as f:\n",
    "    json.dump(language_ratios, f, ensure_ascii=False, indent=4)"
   ]
  },
  {
   "cell_type": "code",
   "execution_count": 5,
   "metadata": {},
   "outputs": [],
   "source": [
    "lmarena_ai_arena_human_preference_55k = pd.read_parquet(\"../external_data/lmarena-ai-arena-human-preference-55k.parquet\")"
   ]
  },
  {
   "cell_type": "code",
   "execution_count": null,
   "metadata": {},
   "outputs": [],
   "source": [
    "languages = []\n",
    "translation_count = []\n",
    "\n",
    "for language, ratio in language_ratios.items():\n",
    "    if language != \"English\" and language != \"unknown\" and language != \"xx\" and language != \"zzp\":\n",
    "        languages.append(language)\n",
    "        translation_count.append(int(len(lmarena_ai_arena_human_preference_55k) * ratio) + 2)\n",
    "\n",
    "print(languages)\n",
    "print(translation_count)"
   ]
  },
  {
   "cell_type": "code",
   "execution_count": 7,
   "metadata": {},
   "outputs": [],
   "source": [
    "prefix_count_sums = list(accumulate(translation_count))\n",
    "# prefix_count_sums"
   ]
  },
  {
   "cell_type": "code",
   "execution_count": null,
   "metadata": {},
   "outputs": [],
   "source": [
    "# lmarena_ai_arena_human_preference_55k = lmarena_ai_arena_human_preference_55k.sample(random_state=3407, frac=1.0)\n",
    "lmarena_ai_arena_human_preference_55k.head()"
   ]
  },
  {
   "cell_type": "code",
   "execution_count": null,
   "metadata": {},
   "outputs": [],
   "source": [
    "translation_aug_lmarena_ai_arena_human_preference_55k = pd.DataFrame(columns=lmarena_ai_arena_human_preference_55k.columns)\n",
    "\n",
    "for idx, row in tqdm(lmarena_ai_arena_human_preference_55k.iterrows(), total=len(lmarena_ai_arena_human_preference_55k)):\n",
    "    for i in range(len(prefix_count_sums)):\n",
    "        if idx < prefix_count_sums[i] and i == 0:\n",
    "            target_language = languages[i]\n",
    "            break\n",
    "        elif idx >= prefix_count_sums[i - 1] and idx < prefix_count_sums[i]:\n",
    "            target_language = languages[i]\n",
    "            break\n",
    "        elif idx > prefix_count_sums[i] and i == len(prefix_count_sums) - 1:\n",
    "            target_language = \"English\"\n",
    "            break\n",
    "\n",
    "    if target_language == \"English\":\n",
    "        new_row = pd.DataFrame([{\n",
    "            \"id\": row[\"id\"],\n",
    "            \"prompt\": row[\"prompt\"],\n",
    "            \"response_a\": row[\"response_a\"],\n",
    "            \"response_b\": row[\"response_b\"],\n",
    "            \"winner\": row[\"winner\"],\n",
    "            \"model_a\": row[\"model_a\"],\n",
    "            \"model_b\": row[\"model_b\"],\n",
    "            \"language\": row[\"language\"]\n",
    "        }])\n",
    "        translation_aug_lmarena_ai_arena_human_preference_55k = pd.concat([translation_aug_lmarena_ai_arena_human_preference_55k, new_row], ignore_index=True)\n",
    "    else:\n",
    "        try:\n",
    "            translated_prompt = get_response_openai(model=\"gpt-4o-mini\", prompt=f\"Translate the following text to {target_language}:\\n{row['prompt']}\")\n",
    "            translated_response_a = get_response_openai(model=\"gpt-4o-mini\", prompt=f\"Translate the following text to {target_language}:\\n{row['response_a']}\")\n",
    "            translated_response_b = get_response_openai(model=\"gpt-4o-mini\", prompt=f\"Translate the following text to {target_language}:\\n{row['response_b']}\")\n",
    "            new_row = pd.DataFrame([{\n",
    "                \"id\": row[\"id\"],\n",
    "                \"prompt\": translated_prompt,\n",
    "                \"response_a\": translated_response_a,\n",
    "                \"response_b\": translated_response_b,\n",
    "                \"winner\": row[\"winner\"],\n",
    "                \"model_a\": row[\"model_a\"],\n",
    "                \"model_b\": row[\"model_b\"],\n",
    "                \"language\": target_language\n",
    "            }])\n",
    "            translation_aug_lmarena_ai_arena_human_preference_55k = pd.concat([translation_aug_lmarena_ai_arena_human_preference_55k, new_row], ignore_index=True)\n",
    "        except:\n",
    "            new_row = pd.DataFrame([{\n",
    "                \"id\": row[\"id\"],\n",
    "                \"prompt\": row[\"prompt\"],\n",
    "                \"response_a\": row[\"response_a\"],\n",
    "                \"response_b\": row[\"response_b\"],\n",
    "                \"winner\": row[\"winner\"],\n",
    "                \"model_a\": row[\"model_a\"],\n",
    "                \"model_b\": row[\"model_b\"],\n",
    "                \"language\": row[\"language\"]\n",
    "            }])\n",
    "            translation_aug_lmarena_ai_arena_human_preference_55k = pd.concat([translation_aug_lmarena_ai_arena_human_preference_55k, new_row], ignore_index=True)\n",
    "            print(f\"Error Index: {idx}\")"
   ]
  },
  {
   "cell_type": "code",
   "execution_count": null,
   "metadata": {},
   "outputs": [],
   "source": [
    "translation_aug_lmarena_ai_arena_human_preference_55k.to_csv(\"translation_aug_ratio_lmarena-ai-arena-human-preference-55k.csv\", index=False)"
   ]
  }
 ],
 "metadata": {
  "kernelspec": {
   "display_name": "base",
   "language": "python",
   "name": "python3"
  },
  "language_info": {
   "codemirror_mode": {
    "name": "ipython",
    "version": 3
   },
   "file_extension": ".py",
   "mimetype": "text/x-python",
   "name": "python",
   "nbconvert_exporter": "python",
   "pygments_lexer": "ipython3",
   "version": "3.10.9"
  }
 },
 "nbformat": 4,
 "nbformat_minor": 2
}
