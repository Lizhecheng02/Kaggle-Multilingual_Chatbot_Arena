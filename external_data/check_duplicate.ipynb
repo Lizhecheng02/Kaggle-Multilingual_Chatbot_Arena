{
 "cells": [
  {
   "cell_type": "code",
   "execution_count": null,
   "metadata": {},
   "outputs": [],
   "source": [
    "import pandas as pd\n",
    "\n",
    "\n",
    "def count_equivalent_rows(df1, df2):\n",
    "    df1_normalized = df1.copy()\n",
    "    df2_normalized = df2.copy()\n",
    "\n",
    "    df1_normalized[[\"response_a\", \"response_b\"]] = (pd.DataFrame(df1_normalized[[\"response_a\", \"response_b\"]].values.tolist()).apply(sorted, axis=1, result_type=\"expand\"))\n",
    "    df2_normalized[[\"response_a\", \"response_b\"]] = (pd.DataFrame(df2_normalized[[\"response_a\", \"response_b\"]].values.tolist()).apply(sorted, axis=1, result_type=\"expand\"))\n",
    "\n",
    "    df1_normalized[\"key\"] = df1_normalized.apply(lambda row: f\"{row['prompt']},{row['response_a']},{row['response_b']}\", axis=1)\n",
    "    df2_normalized[\"key\"] = df2_normalized.apply(lambda row: f\"{row['prompt']},{row['response_a']},{row['response_b']}\", axis=1)\n",
    "\n",
    "    common_keys = set(df1_normalized[\"key\"]).intersection(set(df2_normalized[\"key\"]))\n",
    "\n",
    "    return len(common_keys)\n",
    "\n",
    "df1 = pd.read_parquet(\"./argilla-dpo-mix-7k.parquet\")\n",
    "df2 = pd.read_parquet(\"./mlabonne-orpo-dpo-mix-40k.parquet\")\n",
    "common_count = count_equivalent_rows(df1, df2)\n",
    "print(f\"There are {common_count} rows where all three columns are identical, including cases where `response_a` and `response_b` are interchangeable.\")"
   ]
  }
 ],
 "metadata": {
  "kernelspec": {
   "display_name": "base",
   "language": "python",
   "name": "python3"
  },
  "language_info": {
   "codemirror_mode": {
    "name": "ipython",
    "version": 3
   },
   "file_extension": ".py",
   "mimetype": "text/x-python",
   "name": "python",
   "nbconvert_exporter": "python",
   "pygments_lexer": "ipython3",
   "version": "3.10.9"
  }
 },
 "nbformat": 4,
 "nbformat_minor": 2
}
