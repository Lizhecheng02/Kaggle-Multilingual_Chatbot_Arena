{
 "cells": [
  {
   "cell_type": "code",
   "execution_count": 1,
   "metadata": {},
   "outputs": [],
   "source": [
    "from datasets import load_dataset, Dataset\n",
    "from tqdm import tqdm\n",
    "import yaml\n",
    "import pandas as pd\n",
    "import os\n",
    "import random\n",
    "import secrets\n",
    "import string"
   ]
  },
  {
   "cell_type": "code",
   "execution_count": 2,
   "metadata": {},
   "outputs": [],
   "source": [
    "def generate_unique_strings(count, length):\n",
    "    unique_strings = set()\n",
    "    characters = string.ascii_letters + string.digits\n",
    "    while len(unique_strings) < count:\n",
    "        random_string = \"\".join(secrets.choice(characters) for _ in range(length))\n",
    "        unique_strings.add(random_string)\n",
    "    return list(unique_strings)"
   ]
  },
  {
   "cell_type": "code",
   "execution_count": 3,
   "metadata": {},
   "outputs": [],
   "source": [
    "def load_config(config_file):\n",
    "    with open(config_file, \"r\") as file:\n",
    "        config = yaml.safe_load(file)\n",
    "    return config\n",
    "\n",
    "config_path = os.path.join(os.getcwd(), \"..\", \"config.yaml\")\n",
    "with open(config_path, \"r\") as file:\n",
    "    config = yaml.safe_load(file)\n",
    "\n",
    "hf_token = config[\"huggingface\"][\"token\"]"
   ]
  },
  {
   "cell_type": "code",
   "execution_count": 4,
   "metadata": {},
   "outputs": [
    {
     "data": {
      "text/html": [
       "<div>\n",
       "<style scoped>\n",
       "    .dataframe tbody tr th:only-of-type {\n",
       "        vertical-align: middle;\n",
       "    }\n",
       "\n",
       "    .dataframe tbody tr th {\n",
       "        vertical-align: top;\n",
       "    }\n",
       "\n",
       "    .dataframe thead th {\n",
       "        text-align: right;\n",
       "    }\n",
       "</style>\n",
       "<table border=\"1\" class=\"dataframe\">\n",
       "  <thead>\n",
       "    <tr style=\"text-align: right;\">\n",
       "      <th></th>\n",
       "      <th>system</th>\n",
       "      <th>question</th>\n",
       "      <th>chosen</th>\n",
       "      <th>rejected</th>\n",
       "    </tr>\n",
       "  </thead>\n",
       "  <tbody>\n",
       "    <tr>\n",
       "      <th>0</th>\n",
       "      <td></td>\n",
       "      <td>You will be given a definition of a task first...</td>\n",
       "      <td>[\\n  [\"AFC Ajax (amateurs)\", \"has ground\", \"Sp...</td>\n",
       "      <td>Sure, I'd be happy to help! Here are the RDF ...</td>\n",
       "    </tr>\n",
       "    <tr>\n",
       "      <th>1</th>\n",
       "      <td>You are an AI assistant. You will be given a t...</td>\n",
       "      <td>Generate an approximately fifteen-word sentenc...</td>\n",
       "      <td>Midsummer House is a moderately priced Chinese...</td>\n",
       "      <td>Sure! Here's a sentence that describes all th...</td>\n",
       "    </tr>\n",
       "    <tr>\n",
       "      <th>2</th>\n",
       "      <td>You are a helpful assistant, who always provid...</td>\n",
       "      <td>What happens next in this paragraph?\\n\\nShe th...</td>\n",
       "      <td>C. She then dips the needle in ink and using t...</td>\n",
       "      <td>Ooh, let me think! *giggle* Okay, I know what...</td>\n",
       "    </tr>\n",
       "    <tr>\n",
       "      <th>3</th>\n",
       "      <td>You are an AI assistant. You will be given a t...</td>\n",
       "      <td>Please answer the following question: I want t...</td>\n",
       "      <td>Based on the passage, discuss the primary moti...</td>\n",
       "      <td>Certainly! Here's a detailed and long answer ...</td>\n",
       "    </tr>\n",
       "    <tr>\n",
       "      <th>4</th>\n",
       "      <td>You are an AI assistant that helps people find...</td>\n",
       "      <td>James runs a TV show and there are 5 main char...</td>\n",
       "      <td>James pays the minor characters $15,000 each e...</td>\n",
       "      <td>Sure, I'd be happy to help! To calculate how ...</td>\n",
       "    </tr>\n",
       "  </tbody>\n",
       "</table>\n",
       "</div>"
      ],
      "text/plain": [
       "                                              system  \\\n",
       "0                                                      \n",
       "1  You are an AI assistant. You will be given a t...   \n",
       "2  You are a helpful assistant, who always provid...   \n",
       "3  You are an AI assistant. You will be given a t...   \n",
       "4  You are an AI assistant that helps people find...   \n",
       "\n",
       "                                            question  \\\n",
       "0  You will be given a definition of a task first...   \n",
       "1  Generate an approximately fifteen-word sentenc...   \n",
       "2  What happens next in this paragraph?\\n\\nShe th...   \n",
       "3  Please answer the following question: I want t...   \n",
       "4  James runs a TV show and there are 5 main char...   \n",
       "\n",
       "                                              chosen  \\\n",
       "0  [\\n  [\"AFC Ajax (amateurs)\", \"has ground\", \"Sp...   \n",
       "1  Midsummer House is a moderately priced Chinese...   \n",
       "2  C. She then dips the needle in ink and using t...   \n",
       "3  Based on the passage, discuss the primary moti...   \n",
       "4  James pays the minor characters $15,000 each e...   \n",
       "\n",
       "                                            rejected  \n",
       "0   Sure, I'd be happy to help! Here are the RDF ...  \n",
       "1   Sure! Here's a sentence that describes all th...  \n",
       "2   Ooh, let me think! *giggle* Okay, I know what...  \n",
       "3   Certainly! Here's a detailed and long answer ...  \n",
       "4   Sure, I'd be happy to help! To calculate how ...  "
      ]
     },
     "execution_count": 4,
     "metadata": {},
     "output_type": "execute_result"
    }
   ],
   "source": [
    "ds = load_dataset(\"Intel/orca_dpo_pairs\", token=hf_token)\n",
    "df = Dataset.to_pandas(ds[\"train\"])\n",
    "df.head()"
   ]
  },
  {
   "cell_type": "code",
   "execution_count": 5,
   "metadata": {},
   "outputs": [
    {
     "name": "stdout",
     "output_type": "stream",
     "text": [
      "Generated 12859 Unique IDs.\n"
     ]
    }
   ],
   "source": [
    "ids = generate_unique_strings(len(df), 22)\n",
    "print(f\"Generated {len(ids)} Unique IDs.\")"
   ]
  },
  {
   "cell_type": "code",
   "execution_count": 6,
   "metadata": {},
   "outputs": [
    {
     "name": "stderr",
     "output_type": "stream",
     "text": [
      "100%|██████████| 12859/12859 [00:00<00:00, 15403.43it/s]"
     ]
    },
    {
     "name": "stdout",
     "output_type": "stream",
     "text": [
      "(12859, 8)\n"
     ]
    },
    {
     "name": "stderr",
     "output_type": "stream",
     "text": [
      "\n"
     ]
    },
    {
     "data": {
      "text/html": [
       "<div>\n",
       "<style scoped>\n",
       "    .dataframe tbody tr th:only-of-type {\n",
       "        vertical-align: middle;\n",
       "    }\n",
       "\n",
       "    .dataframe tbody tr th {\n",
       "        vertical-align: top;\n",
       "    }\n",
       "\n",
       "    .dataframe thead th {\n",
       "        text-align: right;\n",
       "    }\n",
       "</style>\n",
       "<table border=\"1\" class=\"dataframe\">\n",
       "  <thead>\n",
       "    <tr style=\"text-align: right;\">\n",
       "      <th></th>\n",
       "      <th>id</th>\n",
       "      <th>prompt</th>\n",
       "      <th>response_a</th>\n",
       "      <th>response_b</th>\n",
       "      <th>winner</th>\n",
       "      <th>model_a</th>\n",
       "      <th>model_b</th>\n",
       "      <th>language</th>\n",
       "    </tr>\n",
       "  </thead>\n",
       "  <tbody>\n",
       "    <tr>\n",
       "      <th>0</th>\n",
       "      <td>xiflH2qS4SDbJvmg5FAfl4</td>\n",
       "      <td>You will be given a definition of a task first...</td>\n",
       "      <td>Sure, I'd be happy to help! Here are the RDF ...</td>\n",
       "      <td>[\\n  [\"AFC Ajax (amateurs)\", \"has ground\", \"Sp...</td>\n",
       "      <td>model_b</td>\n",
       "      <td>Unknown</td>\n",
       "      <td>Unknown</td>\n",
       "      <td>English</td>\n",
       "    </tr>\n",
       "    <tr>\n",
       "      <th>1</th>\n",
       "      <td>jOZsf5cxM7CadMhJFW9cSD</td>\n",
       "      <td>Generate an approximately fifteen-word sentenc...</td>\n",
       "      <td>Midsummer House is a moderately priced Chinese...</td>\n",
       "      <td>Sure! Here's a sentence that describes all th...</td>\n",
       "      <td>model_a</td>\n",
       "      <td>Unknown</td>\n",
       "      <td>Unknown</td>\n",
       "      <td>English</td>\n",
       "    </tr>\n",
       "    <tr>\n",
       "      <th>2</th>\n",
       "      <td>Lu15FKiQyzgk7dndRSClPP</td>\n",
       "      <td>What happens next in this paragraph?\\n\\nShe th...</td>\n",
       "      <td>Ooh, let me think! *giggle* Okay, I know what...</td>\n",
       "      <td>C. She then dips the needle in ink and using t...</td>\n",
       "      <td>model_b</td>\n",
       "      <td>Unknown</td>\n",
       "      <td>Unknown</td>\n",
       "      <td>English</td>\n",
       "    </tr>\n",
       "    <tr>\n",
       "      <th>3</th>\n",
       "      <td>ytv7gSRABcHbdBZsHBaw48</td>\n",
       "      <td>Please answer the following question: I want t...</td>\n",
       "      <td>Certainly! Here's a detailed and long answer ...</td>\n",
       "      <td>Based on the passage, discuss the primary moti...</td>\n",
       "      <td>model_b</td>\n",
       "      <td>Unknown</td>\n",
       "      <td>Unknown</td>\n",
       "      <td>English</td>\n",
       "    </tr>\n",
       "    <tr>\n",
       "      <th>4</th>\n",
       "      <td>8tcrDV8juDilmm7dywrnFD</td>\n",
       "      <td>James runs a TV show and there are 5 main char...</td>\n",
       "      <td>Sure, I'd be happy to help! To calculate how ...</td>\n",
       "      <td>James pays the minor characters $15,000 each e...</td>\n",
       "      <td>model_b</td>\n",
       "      <td>Unknown</td>\n",
       "      <td>Unknown</td>\n",
       "      <td>English</td>\n",
       "    </tr>\n",
       "  </tbody>\n",
       "</table>\n",
       "</div>"
      ],
      "text/plain": [
       "                       id                                             prompt  \\\n",
       "0  xiflH2qS4SDbJvmg5FAfl4  You will be given a definition of a task first...   \n",
       "1  jOZsf5cxM7CadMhJFW9cSD  Generate an approximately fifteen-word sentenc...   \n",
       "2  Lu15FKiQyzgk7dndRSClPP  What happens next in this paragraph?\\n\\nShe th...   \n",
       "3  ytv7gSRABcHbdBZsHBaw48  Please answer the following question: I want t...   \n",
       "4  8tcrDV8juDilmm7dywrnFD  James runs a TV show and there are 5 main char...   \n",
       "\n",
       "                                          response_a  \\\n",
       "0   Sure, I'd be happy to help! Here are the RDF ...   \n",
       "1  Midsummer House is a moderately priced Chinese...   \n",
       "2   Ooh, let me think! *giggle* Okay, I know what...   \n",
       "3   Certainly! Here's a detailed and long answer ...   \n",
       "4   Sure, I'd be happy to help! To calculate how ...   \n",
       "\n",
       "                                          response_b   winner  model_a  \\\n",
       "0  [\\n  [\"AFC Ajax (amateurs)\", \"has ground\", \"Sp...  model_b  Unknown   \n",
       "1   Sure! Here's a sentence that describes all th...  model_a  Unknown   \n",
       "2  C. She then dips the needle in ink and using t...  model_b  Unknown   \n",
       "3  Based on the passage, discuss the primary moti...  model_b  Unknown   \n",
       "4  James pays the minor characters $15,000 each e...  model_b  Unknown   \n",
       "\n",
       "   model_b language  \n",
       "0  Unknown  English  \n",
       "1  Unknown  English  \n",
       "2  Unknown  English  \n",
       "3  Unknown  English  \n",
       "4  Unknown  English  "
      ]
     },
     "execution_count": 6,
     "metadata": {},
     "output_type": "execute_result"
    }
   ],
   "source": [
    "df = df[[\"question\", \"chosen\", \"rejected\"]]\n",
    "\n",
    "prompts = []\n",
    "response_as = []\n",
    "response_bs = []\n",
    "winners = []\n",
    "model_as = []\n",
    "model_bs = []\n",
    "languages = []\n",
    "\n",
    "for idx, row in tqdm(df.iterrows(), total=len(df)):\n",
    "    prompts.append(row[\"question\"])\n",
    "    response_a = row[\"chosen\"]\n",
    "    response_b = row[\"rejected\"]\n",
    "    if random.random() < 0.5:\n",
    "        response_a, response_b = response_b, response_a\n",
    "        winners.append(\"model_b\")\n",
    "    else:\n",
    "        winners.append(\"model_a\")\n",
    "    response_as.append(response_a)\n",
    "    response_bs.append(response_b)\n",
    "\n",
    "    model_as.append(\"Unknown\")\n",
    "    model_bs.append(\"Unknown\")\n",
    "    languages.append(\"English\")\n",
    "\n",
    "df[\"response_a\"] = response_as\n",
    "df[\"response_b\"] = response_bs\n",
    "df[\"prompt\"] = prompts\n",
    "df[\"winner\"] = winners\n",
    "df[\"id\"] = ids\n",
    "df[\"model_a\"] = model_as\n",
    "df[\"model_b\"] = model_bs\n",
    "df[\"language\"] = languages\n",
    "\n",
    "df.drop(columns=[\"question\", \"chosen\", \"rejected\"], inplace=True)\n",
    "df = df[[\"id\", \"prompt\", \"response_a\", \"response_b\", \"winner\", \"model_a\", \"model_b\", \"language\"]]\n",
    "df.reset_index(drop=True, inplace=True)\n",
    "print(df.shape)\n",
    "df.head()"
   ]
  },
  {
   "cell_type": "code",
   "execution_count": 7,
   "metadata": {},
   "outputs": [
    {
     "data": {
      "text/plain": [
       "winner\n",
       "model_b    6461\n",
       "model_a    6398\n",
       "Name: count, dtype: int64"
      ]
     },
     "execution_count": 7,
     "metadata": {},
     "output_type": "execute_result"
    }
   ],
   "source": [
    "df[\"winner\"].value_counts()"
   ]
  },
  {
   "cell_type": "code",
   "execution_count": 8,
   "metadata": {},
   "outputs": [],
   "source": [
    "df.to_parquet(\"Intel-orca_dpo_pairs.parquet\", index=False)"
   ]
  }
 ],
 "metadata": {
  "kernelspec": {
   "display_name": "base",
   "language": "python",
   "name": "python3"
  },
  "language_info": {
   "codemirror_mode": {
    "name": "ipython",
    "version": 3
   },
   "file_extension": ".py",
   "mimetype": "text/x-python",
   "name": "python",
   "nbconvert_exporter": "python",
   "pygments_lexer": "ipython3",
   "version": "3.10.9"
  }
 },
 "nbformat": 4,
 "nbformat_minor": 2
}
