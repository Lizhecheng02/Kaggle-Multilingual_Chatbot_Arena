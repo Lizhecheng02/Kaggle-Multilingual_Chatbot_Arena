{
 "cells": [
  {
   "cell_type": "code",
   "execution_count": 1,
   "metadata": {},
   "outputs": [],
   "source": [
    "from datasets import load_dataset, Dataset\n",
    "from tqdm import tqdm\n",
    "import yaml\n",
    "import os"
   ]
  },
  {
   "cell_type": "code",
   "execution_count": 2,
   "metadata": {},
   "outputs": [],
   "source": [
    "def load_config(config_file):\n",
    "    with open(config_file, \"r\") as file:\n",
    "        config = yaml.safe_load(file)\n",
    "    return config\n",
    "\n",
    "config_path = os.path.join(os.getcwd(), \"..\", \"config.yaml\")\n",
    "with open(config_path, \"r\") as file:\n",
    "    config = yaml.safe_load(file)\n",
    "\n",
    "hf_token = config[\"huggingface\"][\"token\"]"
   ]
  },
  {
   "cell_type": "code",
   "execution_count": 3,
   "metadata": {},
   "outputs": [
    {
     "data": {
      "text/html": [
       "<div>\n",
       "<style scoped>\n",
       "    .dataframe tbody tr th:only-of-type {\n",
       "        vertical-align: middle;\n",
       "    }\n",
       "\n",
       "    .dataframe tbody tr th {\n",
       "        vertical-align: top;\n",
       "    }\n",
       "\n",
       "    .dataframe thead th {\n",
       "        text-align: right;\n",
       "    }\n",
       "</style>\n",
       "<table border=\"1\" class=\"dataframe\">\n",
       "  <thead>\n",
       "    <tr style=\"text-align: right;\">\n",
       "      <th></th>\n",
       "      <th>question_id</th>\n",
       "      <th>model_a</th>\n",
       "      <th>model_b</th>\n",
       "      <th>winner</th>\n",
       "      <th>judge</th>\n",
       "      <th>conversation_a</th>\n",
       "      <th>conversation_b</th>\n",
       "      <th>turn</th>\n",
       "      <th>anony</th>\n",
       "      <th>language</th>\n",
       "      <th>tstamp</th>\n",
       "      <th>openai_moderation</th>\n",
       "      <th>toxic_chat_tag</th>\n",
       "    </tr>\n",
       "  </thead>\n",
       "  <tbody>\n",
       "    <tr>\n",
       "      <th>0</th>\n",
       "      <td>58210e39b3fd4441a2bd4a518bb44c2d</td>\n",
       "      <td>chatglm-6b</td>\n",
       "      <td>koala-13b</td>\n",
       "      <td>model_b</td>\n",
       "      <td>arena_user_973</td>\n",
       "      <td>[{'content': 'What is the difference between O...</td>\n",
       "      <td>[{'content': 'What is the difference between O...</td>\n",
       "      <td>1</td>\n",
       "      <td>True</td>\n",
       "      <td>English</td>\n",
       "      <td>1.682352e+09</td>\n",
       "      <td>{'categories': {'harassment': False, 'harassme...</td>\n",
       "      <td>{'roberta-large': {'flagged': False, 'probabil...</td>\n",
       "    </tr>\n",
       "    <tr>\n",
       "      <th>1</th>\n",
       "      <td>2564acd09e3942fd97657d05282d4389</td>\n",
       "      <td>oasst-pythia-12b</td>\n",
       "      <td>alpaca-13b</td>\n",
       "      <td>tie</td>\n",
       "      <td>arena_user_973</td>\n",
       "      <td>[{'content': 'Why did my parent not invite me ...</td>\n",
       "      <td>[{'content': 'Why did my parent not invite me ...</td>\n",
       "      <td>1</td>\n",
       "      <td>True</td>\n",
       "      <td>English</td>\n",
       "      <td>1.682352e+09</td>\n",
       "      <td>{'categories': {'harassment': False, 'harassme...</td>\n",
       "      <td>{'roberta-large': {'flagged': False, 'probabil...</td>\n",
       "    </tr>\n",
       "    <tr>\n",
       "      <th>2</th>\n",
       "      <td>90bfd142157948aba01931726c888e7f</td>\n",
       "      <td>koala-13b</td>\n",
       "      <td>oasst-pythia-12b</td>\n",
       "      <td>model_b</td>\n",
       "      <td>arena_user_973</td>\n",
       "      <td>[{'content': 'Fuji vs. Nikon, which is better?...</td>\n",
       "      <td>[{'content': 'Fuji vs. Nikon, which is better?...</td>\n",
       "      <td>1</td>\n",
       "      <td>True</td>\n",
       "      <td>English</td>\n",
       "      <td>1.682352e+09</td>\n",
       "      <td>{'categories': {'harassment': False, 'harassme...</td>\n",
       "      <td>{'roberta-large': {'flagged': False, 'probabil...</td>\n",
       "    </tr>\n",
       "    <tr>\n",
       "      <th>3</th>\n",
       "      <td>a7c5accc53e649a3bc6b2e41d962ebc4</td>\n",
       "      <td>vicuna-13b</td>\n",
       "      <td>oasst-pythia-12b</td>\n",
       "      <td>model_b</td>\n",
       "      <td>arena_user_973</td>\n",
       "      <td>[{'content': 'How to build an arena for chatbo...</td>\n",
       "      <td>[{'content': 'How to build an arena for chatbo...</td>\n",
       "      <td>1</td>\n",
       "      <td>True</td>\n",
       "      <td>English</td>\n",
       "      <td>1.682352e+09</td>\n",
       "      <td>{'categories': {'harassment': False, 'harassme...</td>\n",
       "      <td>{'roberta-large': {'flagged': False, 'probabil...</td>\n",
       "    </tr>\n",
       "    <tr>\n",
       "      <th>4</th>\n",
       "      <td>adf27e819a3c494cb6e993f0c660e097</td>\n",
       "      <td>vicuna-13b</td>\n",
       "      <td>koala-13b</td>\n",
       "      <td>model_a</td>\n",
       "      <td>arena_user_973</td>\n",
       "      <td>[{'content': 'When is it today?', 'role': 'use...</td>\n",
       "      <td>[{'content': 'When is it today?', 'role': 'use...</td>\n",
       "      <td>1</td>\n",
       "      <td>True</td>\n",
       "      <td>English</td>\n",
       "      <td>1.682352e+09</td>\n",
       "      <td>{'categories': {'harassment': False, 'harassme...</td>\n",
       "      <td>{'roberta-large': {'flagged': False, 'probabil...</td>\n",
       "    </tr>\n",
       "  </tbody>\n",
       "</table>\n",
       "</div>"
      ],
      "text/plain": [
       "                        question_id           model_a           model_b  \\\n",
       "0  58210e39b3fd4441a2bd4a518bb44c2d        chatglm-6b         koala-13b   \n",
       "1  2564acd09e3942fd97657d05282d4389  oasst-pythia-12b        alpaca-13b   \n",
       "2  90bfd142157948aba01931726c888e7f         koala-13b  oasst-pythia-12b   \n",
       "3  a7c5accc53e649a3bc6b2e41d962ebc4        vicuna-13b  oasst-pythia-12b   \n",
       "4  adf27e819a3c494cb6e993f0c660e097        vicuna-13b         koala-13b   \n",
       "\n",
       "    winner           judge                                     conversation_a  \\\n",
       "0  model_b  arena_user_973  [{'content': 'What is the difference between O...   \n",
       "1      tie  arena_user_973  [{'content': 'Why did my parent not invite me ...   \n",
       "2  model_b  arena_user_973  [{'content': 'Fuji vs. Nikon, which is better?...   \n",
       "3  model_b  arena_user_973  [{'content': 'How to build an arena for chatbo...   \n",
       "4  model_a  arena_user_973  [{'content': 'When is it today?', 'role': 'use...   \n",
       "\n",
       "                                      conversation_b  turn  anony language  \\\n",
       "0  [{'content': 'What is the difference between O...     1   True  English   \n",
       "1  [{'content': 'Why did my parent not invite me ...     1   True  English   \n",
       "2  [{'content': 'Fuji vs. Nikon, which is better?...     1   True  English   \n",
       "3  [{'content': 'How to build an arena for chatbo...     1   True  English   \n",
       "4  [{'content': 'When is it today?', 'role': 'use...     1   True  English   \n",
       "\n",
       "         tstamp                                  openai_moderation  \\\n",
       "0  1.682352e+09  {'categories': {'harassment': False, 'harassme...   \n",
       "1  1.682352e+09  {'categories': {'harassment': False, 'harassme...   \n",
       "2  1.682352e+09  {'categories': {'harassment': False, 'harassme...   \n",
       "3  1.682352e+09  {'categories': {'harassment': False, 'harassme...   \n",
       "4  1.682352e+09  {'categories': {'harassment': False, 'harassme...   \n",
       "\n",
       "                                      toxic_chat_tag  \n",
       "0  {'roberta-large': {'flagged': False, 'probabil...  \n",
       "1  {'roberta-large': {'flagged': False, 'probabil...  \n",
       "2  {'roberta-large': {'flagged': False, 'probabil...  \n",
       "3  {'roberta-large': {'flagged': False, 'probabil...  \n",
       "4  {'roberta-large': {'flagged': False, 'probabil...  "
      ]
     },
     "execution_count": 3,
     "metadata": {},
     "output_type": "execute_result"
    }
   ],
   "source": [
    "ds = load_dataset(\"lmsys/chatbot_arena_conversations\", token=hf_token)\n",
    "df = Dataset.to_pandas(ds[\"train\"])\n",
    "df.head()"
   ]
  },
  {
   "cell_type": "code",
   "execution_count": 4,
   "metadata": {},
   "outputs": [
    {
     "name": "stdout",
     "output_type": "stream",
     "text": [
      "(23294, 13)\n"
     ]
    }
   ],
   "source": [
    "df = df[df[\"winner\"] != \"tie\"]\n",
    "df = df[df[\"winner\"] != \"tie (bothbad)\"]\n",
    "print(df.shape)"
   ]
  },
  {
   "cell_type": "code",
   "execution_count": 5,
   "metadata": {},
   "outputs": [
    {
     "name": "stdout",
     "output_type": "stream",
     "text": [
      "[{'content': 'What is the difference between OpenCL and CUDA?', 'role': 'user'}\n",
      " {'content': 'OpenCL and CUDA are two different programming models that are used for parallel computing.OpenCL is a general-purpose并行编程接口 that allows developers to write parallel code that can run on any platform that supportsCL, which includes most modern operating systems and computer systems, including Windows, Linux, and macOS. It provides a lower-level, more flexible API that is more suitable for building large-scale distributed computing systems.CUDA is a specific implementation ofOpenCL that is designed for performance and scalability in devices with multiple GPU(s). It was developed by Nvidia and is widely used for scientific computing, machine learning, and图形图像处理. The CUDA API provides a high-level, more efficient way to write parallel code that can run on top of a GPU, while still maintaining the ability to write code that can be easily adapted for other parallel computing platforms.', 'role': 'assistant'}]\n",
      "2\n",
      "What is the difference between OpenCL and CUDA?\n",
      "OpenCL and CUDA are two different programming models that are used for parallel computing.OpenCL is a general-purpose并行编程接口 that allows developers to write parallel code that can run on any platform that supportsCL, which includes most modern operating systems and computer systems, including Windows, Linux, and macOS. It provides a lower-level, more flexible API that is more suitable for building large-scale distributed computing systems.CUDA is a specific implementation ofOpenCL that is designed for performance and scalability in devices with multiple GPU(s). It was developed by Nvidia and is widely used for scientific computing, machine learning, and图形图像处理. The CUDA API provides a high-level, more efficient way to write parallel code that can run on top of a GPU, while still maintaining the ability to write code that can be easily adapted for other parallel computing platforms.\n"
     ]
    }
   ],
   "source": [
    "print(df[\"conversation_a\"][0])\n",
    "print(len(df[\"conversation_a\"][0]))\n",
    "print(df[\"conversation_a\"][0][0][\"content\"])\n",
    "print(df[\"conversation_a\"][0][1][\"content\"])"
   ]
  },
  {
   "cell_type": "code",
   "execution_count": 6,
   "metadata": {},
   "outputs": [
    {
     "name": "stdout",
     "output_type": "stream",
     "text": [
      "(20491, 13)\n"
     ]
    }
   ],
   "source": [
    "df = df[df[\"conversation_a\"].apply(len) == 2]\n",
    "print(df.shape)"
   ]
  },
  {
   "cell_type": "code",
   "execution_count": 7,
   "metadata": {},
   "outputs": [
    {
     "name": "stderr",
     "output_type": "stream",
     "text": [
      "100%|██████████| 20491/20491 [00:01<00:00, 13842.14it/s]\n"
     ]
    },
    {
     "data": {
      "text/html": [
       "<div>\n",
       "<style scoped>\n",
       "    .dataframe tbody tr th:only-of-type {\n",
       "        vertical-align: middle;\n",
       "    }\n",
       "\n",
       "    .dataframe tbody tr th {\n",
       "        vertical-align: top;\n",
       "    }\n",
       "\n",
       "    .dataframe thead th {\n",
       "        text-align: right;\n",
       "    }\n",
       "</style>\n",
       "<table border=\"1\" class=\"dataframe\">\n",
       "  <thead>\n",
       "    <tr style=\"text-align: right;\">\n",
       "      <th></th>\n",
       "      <th>id</th>\n",
       "      <th>prompt</th>\n",
       "      <th>response_a</th>\n",
       "      <th>response_b</th>\n",
       "      <th>winner</th>\n",
       "      <th>model_a</th>\n",
       "      <th>model_b</th>\n",
       "      <th>language</th>\n",
       "    </tr>\n",
       "  </thead>\n",
       "  <tbody>\n",
       "    <tr>\n",
       "      <th>0</th>\n",
       "      <td>58210e39b3fd4441a2bd4a518bb44c2d</td>\n",
       "      <td>What is the difference between OpenCL and CUDA?</td>\n",
       "      <td>OpenCL and CUDA are two different programming ...</td>\n",
       "      <td>OpenCL and CUDA are both programming languages...</td>\n",
       "      <td>model_b</td>\n",
       "      <td>chatglm-6b</td>\n",
       "      <td>koala-13b</td>\n",
       "      <td>English</td>\n",
       "    </tr>\n",
       "    <tr>\n",
       "      <th>2</th>\n",
       "      <td>90bfd142157948aba01931726c888e7f</td>\n",
       "      <td>Fuji vs. Nikon, which is better?</td>\n",
       "      <td>Both Fuji and Nikon are popular camera brands ...</td>\n",
       "      <td>This is a subjective question and the answer d...</td>\n",
       "      <td>model_b</td>\n",
       "      <td>koala-13b</td>\n",
       "      <td>oasst-pythia-12b</td>\n",
       "      <td>English</td>\n",
       "    </tr>\n",
       "    <tr>\n",
       "      <th>3</th>\n",
       "      <td>a7c5accc53e649a3bc6b2e41d962ebc4</td>\n",
       "      <td>How to build an arena for chatbots?</td>\n",
       "      <td>Building an arena for chatbots can be done by ...</td>\n",
       "      <td>Building an arena for chatbots is a great way ...</td>\n",
       "      <td>model_b</td>\n",
       "      <td>vicuna-13b</td>\n",
       "      <td>oasst-pythia-12b</td>\n",
       "      <td>English</td>\n",
       "    </tr>\n",
       "    <tr>\n",
       "      <th>4</th>\n",
       "      <td>adf27e819a3c494cb6e993f0c660e097</td>\n",
       "      <td>When is it today?</td>\n",
       "      <td>I'm sorry, I cannot determine the current date...</td>\n",
       "      <td>Today is February 23, 2023.</td>\n",
       "      <td>model_a</td>\n",
       "      <td>vicuna-13b</td>\n",
       "      <td>koala-13b</td>\n",
       "      <td>English</td>\n",
       "    </tr>\n",
       "    <tr>\n",
       "      <th>5</th>\n",
       "      <td>c0fc42c6f5f14f2aa5a89f71f8553730</td>\n",
       "      <td>Count from 1 to 10 with step = 3</td>\n",
       "      <td>1, 4, 7, 10\\n\\nCounting with a step of 3 means...</td>\n",
       "      <td>1, 4, 7, 10</td>\n",
       "      <td>model_a</td>\n",
       "      <td>vicuna-13b</td>\n",
       "      <td>koala-13b</td>\n",
       "      <td>English</td>\n",
       "    </tr>\n",
       "  </tbody>\n",
       "</table>\n",
       "</div>"
      ],
      "text/plain": [
       "                                 id  \\\n",
       "0  58210e39b3fd4441a2bd4a518bb44c2d   \n",
       "2  90bfd142157948aba01931726c888e7f   \n",
       "3  a7c5accc53e649a3bc6b2e41d962ebc4   \n",
       "4  adf27e819a3c494cb6e993f0c660e097   \n",
       "5  c0fc42c6f5f14f2aa5a89f71f8553730   \n",
       "\n",
       "                                            prompt  \\\n",
       "0  What is the difference between OpenCL and CUDA?   \n",
       "2                 Fuji vs. Nikon, which is better?   \n",
       "3              How to build an arena for chatbots?   \n",
       "4                                When is it today?   \n",
       "5                 Count from 1 to 10 with step = 3   \n",
       "\n",
       "                                          response_a  \\\n",
       "0  OpenCL and CUDA are two different programming ...   \n",
       "2  Both Fuji and Nikon are popular camera brands ...   \n",
       "3  Building an arena for chatbots can be done by ...   \n",
       "4  I'm sorry, I cannot determine the current date...   \n",
       "5  1, 4, 7, 10\\n\\nCounting with a step of 3 means...   \n",
       "\n",
       "                                          response_b   winner     model_a  \\\n",
       "0  OpenCL and CUDA are both programming languages...  model_b  chatglm-6b   \n",
       "2  This is a subjective question and the answer d...  model_b   koala-13b   \n",
       "3  Building an arena for chatbots is a great way ...  model_b  vicuna-13b   \n",
       "4                        Today is February 23, 2023.  model_a  vicuna-13b   \n",
       "5                                        1, 4, 7, 10  model_a  vicuna-13b   \n",
       "\n",
       "            model_b language  \n",
       "0         koala-13b  English  \n",
       "2  oasst-pythia-12b  English  \n",
       "3  oasst-pythia-12b  English  \n",
       "4         koala-13b  English  \n",
       "5         koala-13b  English  "
      ]
     },
     "execution_count": 7,
     "metadata": {},
     "output_type": "execute_result"
    }
   ],
   "source": [
    "df = df[[\"question_id\", \"model_a\", \"model_b\", \"winner\", \"language\", \"conversation_a\", \"conversation_b\"]]\n",
    "\n",
    "prompts = []\n",
    "response_as = []\n",
    "response_bs = []\n",
    "\n",
    "for idx, row in tqdm(df.iterrows(), total=len(df)):\n",
    "    prompt1 = row[\"conversation_a\"][0][\"content\"]\n",
    "    prompt2 = row[\"conversation_b\"][0][\"content\"]\n",
    "    if prompt1 != prompt2:\n",
    "        print(f\"Diffrent Prompts in Single Row: {idx}\")\n",
    "    else:\n",
    "        prompts.append(prompt1)\n",
    "\n",
    "    response_a = row[\"conversation_a\"][1][\"content\"]\n",
    "    response_b = row[\"conversation_b\"][1][\"content\"]\n",
    "    response_as.append(response_a)\n",
    "    response_bs.append(response_b)\n",
    "\n",
    "df[\"response_a\"] = response_as\n",
    "df[\"response_b\"] = response_bs\n",
    "df[\"prompt\"] = prompts\n",
    "\n",
    "df.drop(columns=[\"conversation_a\", \"conversation_b\"], inplace=True)\n",
    "df.rename(columns={\"question_id\": \"id\"}, inplace=True)\n",
    "\n",
    "df = df[[\"id\", \"prompt\", \"response_a\", \"response_b\", \"winner\", \"model_a\", \"model_b\", \"language\"]]\n",
    "df.head()"
   ]
  },
  {
   "cell_type": "code",
   "execution_count": 8,
   "metadata": {},
   "outputs": [
    {
     "data": {
      "text/plain": [
       "winner\n",
       "model_a    10343\n",
       "model_b    10148\n",
       "Name: count, dtype: int64"
      ]
     },
     "execution_count": 8,
     "metadata": {},
     "output_type": "execute_result"
    }
   ],
   "source": [
    "df[\"winner\"].value_counts()"
   ]
  },
  {
   "cell_type": "code",
   "execution_count": 9,
   "metadata": {},
   "outputs": [
    {
     "data": {
      "text/plain": [
       "language\n",
       "English       18320\n",
       "German          430\n",
       "Spanish         344\n",
       "French          285\n",
       "Portuguese      178\n",
       "              ...  \n",
       "Hawaiian          1\n",
       "Maori             1\n",
       "Malagasy          1\n",
       "Manx              1\n",
       "Yoruba            1\n",
       "Name: count, Length: 71, dtype: int64"
      ]
     },
     "execution_count": 9,
     "metadata": {},
     "output_type": "execute_result"
    }
   ],
   "source": [
    "df[\"language\"].value_counts()"
   ]
  },
  {
   "cell_type": "code",
   "execution_count": 10,
   "metadata": {},
   "outputs": [],
   "source": [
    "df.to_parquet(\"lmsys-chatbot_arena_conversations.parquet\", index=False)"
   ]
  }
 ],
 "metadata": {
  "kernelspec": {
   "display_name": "base",
   "language": "python",
   "name": "python3"
  },
  "language_info": {
   "codemirror_mode": {
    "name": "ipython",
    "version": 3
   },
   "file_extension": ".py",
   "mimetype": "text/x-python",
   "name": "python",
   "nbconvert_exporter": "python",
   "pygments_lexer": "ipython3",
   "version": "3.10.9"
  }
 },
 "nbformat": 4,
 "nbformat_minor": 2
}
