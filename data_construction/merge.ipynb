{
 "cells": [
  {
   "cell_type": "code",
   "execution_count": 1,
   "metadata": {},
   "outputs": [],
   "source": [
    "import os\n",
    "import pandas as pd"
   ]
  },
  {
   "cell_type": "code",
   "execution_count": 2,
   "metadata": {},
   "outputs": [
    {
     "name": "stdout",
     "output_type": "stream",
     "text": [
      "Found 14 .parquet files. Merging...\n",
      "Merged: self-generation-zh-ru-vi-10.parquet\n",
      "Merged: self-generation-zh-ru-vi-11.parquet\n",
      "Merged: self-generation-zh-ru-vi-12.parquet\n",
      "Merged: self-generation-zh-ru-vi-13.parquet\n",
      "Merged: self-generation-zh-ru-vi-2.parquet\n",
      "Merged: self-generation-zh-ru-vi-3.parquet\n",
      "Merged: self-generation-zh-ru-vi-4.parquet\n",
      "Merged: self-generation-zh-ru-vi-5.parquet\n",
      "Merged: self-generation-zh-ru-vi-6.parquet\n",
      "Merged: self-generation-zh-ru-vi-7.parquet\n",
      "Merged: self-generation-zh-ru-vi-8.parquet\n",
      "Merged: self-generation-zh-ru-vi-9.parquet\n",
      "Merged: self-generation-zh-ru-vi.parquet\n",
      "All files merged successfully.\n"
     ]
    }
   ],
   "source": [
    "current_dir = os.getcwd()\n",
    "\n",
    "parquet_files = [f for f in os.listdir(current_dir) if f.endswith(\".parquet\")]\n",
    "\n",
    "if not parquet_files:\n",
    "    print(\"No .parquet files found in the current directory.\")\n",
    "else:\n",
    "    print(f\"Found {len(parquet_files)} .parquet files. Merging...\")\n",
    "    merged_df = pd.DataFrame()\n",
    "\n",
    "    for file in parquet_files:\n",
    "        file_path = os.path.join(current_dir, file)\n",
    "        if file.startswith(\"self\"):\n",
    "            try:\n",
    "                df = pd.read_parquet(file_path)\n",
    "                merged_df = pd.concat([merged_df, df], ignore_index=True)\n",
    "                print(f\"Merged: {file}\")\n",
    "            except Exception as e:\n",
    "                print(f\"Error reading {file}: {e}\")\n",
    "\n",
    "    output_file = os.path.join(current_dir, \"O1-OPEN-OpenO1-SFT-zh-ru-vi-merged.parquet\")\n",
    "    try:\n",
    "        merged_df.to_parquet(output_file, index=False)\n",
    "        print(f\"All files merged successfully.\")\n",
    "    except Exception as e:\n",
    "        print(f\"Error saving merged file: {e}\")"
   ]
  },
  {
   "cell_type": "code",
   "execution_count": 3,
   "metadata": {},
   "outputs": [
    {
     "name": "stdout",
     "output_type": "stream",
     "text": [
      "(11500, 8)\n",
      "(11500, 8)\n"
     ]
    }
   ],
   "source": [
    "print(merged_df.shape)\n",
    "merged_df.drop_duplicates(subset=[\"prompt\", \"response_a\", \"response_b\"], inplace=True)\n",
    "print(merged_df.shape)"
   ]
  }
 ],
 "metadata": {
  "kernelspec": {
   "display_name": "base",
   "language": "python",
   "name": "python3"
  },
  "language_info": {
   "codemirror_mode": {
    "name": "ipython",
    "version": 3
   },
   "file_extension": ".py",
   "mimetype": "text/x-python",
   "name": "python",
   "nbconvert_exporter": "python",
   "pygments_lexer": "ipython3",
   "version": "3.10.9"
  }
 },
 "nbformat": 4,
 "nbformat_minor": 2
}
