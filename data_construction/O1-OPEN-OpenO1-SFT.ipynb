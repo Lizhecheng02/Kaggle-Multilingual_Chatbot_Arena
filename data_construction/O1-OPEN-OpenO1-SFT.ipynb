{
 "cells": [
  {
   "cell_type": "code",
   "execution_count": 1,
   "metadata": {},
   "outputs": [],
   "source": [
    "from datasets import load_dataset, Dataset\n",
    "from tqdm import tqdm\n",
    "from utils import get_response_openai_prompt\n",
    "import yaml\n",
    "import pandas as pd\n",
    "import os\n",
    "import random\n",
    "import secrets\n",
    "import string"
   ]
  },
  {
   "cell_type": "code",
   "execution_count": 2,
   "metadata": {},
   "outputs": [],
   "source": [
    "def generate_unique_strings(count, length):\n",
    "    unique_strings = set()\n",
    "    characters = string.ascii_letters + string.digits\n",
    "    while len(unique_strings) < count:\n",
    "        random_string = \"\".join(secrets.choice(characters) for _ in range(length))\n",
    "        unique_strings.add(random_string)\n",
    "    return list(unique_strings)"
   ]
  },
  {
   "cell_type": "code",
   "execution_count": 3,
   "metadata": {},
   "outputs": [],
   "source": [
    "def load_config(config_file):\n",
    "    with open(config_file, \"r\") as file:\n",
    "        config = yaml.safe_load(file)\n",
    "    return config\n",
    "\n",
    "config_path = os.path.join(os.getcwd(), \"..\", \"config.yaml\")\n",
    "with open(config_path, \"r\") as file:\n",
    "    config = yaml.safe_load(file)\n",
    "\n",
    "hf_token = config[\"huggingface\"][\"token\"]"
   ]
  },
  {
   "cell_type": "code",
   "execution_count": 4,
   "metadata": {},
   "outputs": [
    {
     "data": {
      "application/vnd.jupyter.widget-view+json": {
       "model_id": "57191229265b48eb8748768e3edbbf47",
       "version_major": 2,
       "version_minor": 0
      },
      "text/plain": [
       "README.md:   0%|          | 0.00/10.1k [00:00<?, ?B/s]"
      ]
     },
     "metadata": {},
     "output_type": "display_data"
    },
    {
     "name": "stderr",
     "output_type": "stream",
     "text": [
      "c:\\Users\\86183\\anaconda3\\lib\\site-packages\\huggingface_hub\\file_download.py:147: UserWarning: `huggingface_hub` cache-system uses symlinks by default to efficiently store duplicated files but your machine does not support them in C:\\Users\\86183\\.cache\\huggingface\\hub\\datasets--O1-OPEN--OpenO1-SFT. Caching files will still work but in a degraded version that might require more space on your disk. This warning can be disabled by setting the `HF_HUB_DISABLE_SYMLINKS_WARNING` environment variable. For more details, see https://huggingface.co/docs/huggingface_hub/how-to-cache#limitations.\n",
      "To support symlinks on Windows, you either need to activate Developer Mode or to run Python as an administrator. In order to activate developer mode, see this article: https://docs.microsoft.com/en-us/windows/apps/get-started/enable-your-device-for-development\n",
      "  warnings.warn(message)\n"
     ]
    },
    {
     "data": {
      "application/vnd.jupyter.widget-view+json": {
       "model_id": "32c629c4deba44748e718193b5ed494e",
       "version_major": 2,
       "version_minor": 0
      },
      "text/plain": [
       "OpenO1-SFT.jsonl:   0%|          | 0.00/384M [00:00<?, ?B/s]"
      ]
     },
     "metadata": {},
     "output_type": "display_data"
    },
    {
     "data": {
      "application/vnd.jupyter.widget-view+json": {
       "model_id": "7a8463c38cde4865bdf7a8c99eded44e",
       "version_major": 2,
       "version_minor": 0
      },
      "text/plain": [
       "Generating train split:   0%|          | 0/77685 [00:00<?, ? examples/s]"
      ]
     },
     "metadata": {},
     "output_type": "display_data"
    },
    {
     "data": {
      "text/html": [
       "<div>\n",
       "<style scoped>\n",
       "    .dataframe tbody tr th:only-of-type {\n",
       "        vertical-align: middle;\n",
       "    }\n",
       "\n",
       "    .dataframe tbody tr th {\n",
       "        vertical-align: top;\n",
       "    }\n",
       "\n",
       "    .dataframe thead th {\n",
       "        text-align: right;\n",
       "    }\n",
       "</style>\n",
       "<table border=\"1\" class=\"dataframe\">\n",
       "  <thead>\n",
       "    <tr style=\"text-align: right;\">\n",
       "      <th></th>\n",
       "      <th>instruction</th>\n",
       "      <th>output</th>\n",
       "    </tr>\n",
       "  </thead>\n",
       "  <tbody>\n",
       "    <tr>\n",
       "      <th>0</th>\n",
       "      <td>Consider a regular octagon. How many different...</td>\n",
       "      <td>&lt;Thought&gt;\\nAlright, I need to figure out how m...</td>\n",
       "    </tr>\n",
       "    <tr>\n",
       "      <th>1</th>\n",
       "      <td>Create a Python class that encodes a given num...</td>\n",
       "      <td>&lt;Thought&gt;\\nAlright, I need to create a Python ...</td>\n",
       "    </tr>\n",
       "    <tr>\n",
       "      <th>2</th>\n",
       "      <td>Write a Python function named `is_valid_binary...</td>\n",
       "      <td>&lt;Thought&gt;\\nAlright, I need to write a Python f...</td>\n",
       "    </tr>\n",
       "    <tr>\n",
       "      <th>3</th>\n",
       "      <td>Let X be a subset of a Banach space Y with the...</td>\n",
       "      <td>A nice result in functional analysis!\\n\\nThe s...</td>\n",
       "    </tr>\n",
       "    <tr>\n",
       "      <th>4</th>\n",
       "      <td>Identify the correct option for document fetch...</td>\n",
       "      <td>&lt;Thought&gt;\\nAlright, the task at hand is to ide...</td>\n",
       "    </tr>\n",
       "  </tbody>\n",
       "</table>\n",
       "</div>"
      ],
      "text/plain": [
       "                                         instruction  \\\n",
       "0  Consider a regular octagon. How many different...   \n",
       "1  Create a Python class that encodes a given num...   \n",
       "2  Write a Python function named `is_valid_binary...   \n",
       "3  Let X be a subset of a Banach space Y with the...   \n",
       "4  Identify the correct option for document fetch...   \n",
       "\n",
       "                                              output  \n",
       "0  <Thought>\\nAlright, I need to figure out how m...  \n",
       "1  <Thought>\\nAlright, I need to create a Python ...  \n",
       "2  <Thought>\\nAlright, I need to write a Python f...  \n",
       "3  A nice result in functional analysis!\\n\\nThe s...  \n",
       "4  <Thought>\\nAlright, the task at hand is to ide...  "
      ]
     },
     "execution_count": 4,
     "metadata": {},
     "output_type": "execute_result"
    }
   ],
   "source": [
    "ds = load_dataset(\"O1-OPEN/OpenO1-SFT\", token=hf_token)\n",
    "df = Dataset.to_pandas(ds[\"train\"])\n",
    "df.head()"
   ]
  },
  {
   "cell_type": "code",
   "execution_count": 5,
   "metadata": {},
   "outputs": [
    {
     "name": "stdout",
     "output_type": "stream",
     "text": [
      "(3000, 2)\n"
     ]
    },
    {
     "data": {
      "text/html": [
       "<div>\n",
       "<style scoped>\n",
       "    .dataframe tbody tr th:only-of-type {\n",
       "        vertical-align: middle;\n",
       "    }\n",
       "\n",
       "    .dataframe tbody tr th {\n",
       "        vertical-align: top;\n",
       "    }\n",
       "\n",
       "    .dataframe thead th {\n",
       "        text-align: right;\n",
       "    }\n",
       "</style>\n",
       "<table border=\"1\" class=\"dataframe\">\n",
       "  <thead>\n",
       "    <tr style=\"text-align: right;\">\n",
       "      <th></th>\n",
       "      <th>instruction</th>\n",
       "      <th>output</th>\n",
       "    </tr>\n",
       "  </thead>\n",
       "  <tbody>\n",
       "    <tr>\n",
       "      <th>0</th>\n",
       "      <td>Using the jQuery library, write a snippet to a...</td>\n",
       "      <td>&lt;Thought&gt;\\nAlright, I need to write a jQuery s...</td>\n",
       "    </tr>\n",
       "    <tr>\n",
       "      <th>1</th>\n",
       "      <td>Suppose your friend has entered a chess tourna...</td>\n",
       "      <td>Here is a MATLAB code that calculates the prob...</td>\n",
       "    </tr>\n",
       "    <tr>\n",
       "      <th>2</th>\n",
       "      <td>On a recent day in Oregon, at 9 a.m. the tempe...</td>\n",
       "      <td>&lt;Thought&gt;\\nAlright, let's dive into this probl...</td>\n",
       "    </tr>\n",
       "    <tr>\n",
       "      <th>3</th>\n",
       "      <td>Derivation on Hom Functor for Commutative Diag...</td>\n",
       "      <td>A classic result in homological algebra!\\n\\nLe...</td>\n",
       "    </tr>\n",
       "    <tr>\n",
       "      <th>4</th>\n",
       "      <td>I am making a script for automated tests. But ...</td>\n",
       "      <td>&lt;Thought&gt;\\nAlright, I need to help the user cr...</td>\n",
       "    </tr>\n",
       "  </tbody>\n",
       "</table>\n",
       "</div>"
      ],
      "text/plain": [
       "                                         instruction  \\\n",
       "0  Using the jQuery library, write a snippet to a...   \n",
       "1  Suppose your friend has entered a chess tourna...   \n",
       "2  On a recent day in Oregon, at 9 a.m. the tempe...   \n",
       "3  Derivation on Hom Functor for Commutative Diag...   \n",
       "4  I am making a script for automated tests. But ...   \n",
       "\n",
       "                                              output  \n",
       "0  <Thought>\\nAlright, I need to write a jQuery s...  \n",
       "1  Here is a MATLAB code that calculates the prob...  \n",
       "2  <Thought>\\nAlright, let's dive into this probl...  \n",
       "3  A classic result in homological algebra!\\n\\nLe...  \n",
       "4  <Thought>\\nAlright, I need to help the user cr...  "
      ]
     },
     "execution_count": 5,
     "metadata": {},
     "output_type": "execute_result"
    }
   ],
   "source": [
    "df = df.sample(3000, random_state=3407)\n",
    "df.reset_index(drop=True, inplace=True)\n",
    "print(df.shape)\n",
    "df.head()"
   ]
  },
  {
   "cell_type": "code",
   "execution_count": null,
   "metadata": {},
   "outputs": [],
   "source": [
    "new_data = pd.DataFrame(columns=[\"prompt\", \"response_a\", \"response_b\", \"winner\", \"language\"])"
   ]
  },
  {
   "cell_type": "code",
   "execution_count": null,
   "metadata": {},
   "outputs": [],
   "source": [
    "for idx, row in tqdm(df.iterrows(), total=len(df)):\n",
    "    if idx < 1000:\n",
    "        instruction = row[\"instruction\"]\n",
    "        translated_instruction = get_response_openai_prompt(f\"Translate the following instruction to Russian: {instruction}.\\nYou should only return the translation.\")"
   ]
  }
 ],
 "metadata": {
  "kernelspec": {
   "display_name": "base",
   "language": "python",
   "name": "python3"
  },
  "language_info": {
   "codemirror_mode": {
    "name": "ipython",
    "version": 3
   },
   "file_extension": ".py",
   "mimetype": "text/x-python",
   "name": "python",
   "nbconvert_exporter": "python",
   "pygments_lexer": "ipython3",
   "version": "3.10.9"
  }
 },
 "nbformat": 4,
 "nbformat_minor": 2
}
